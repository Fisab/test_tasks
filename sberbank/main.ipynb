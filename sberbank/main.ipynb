{
 "cells": [
  {
   "cell_type": "code",
   "execution_count": 259,
   "metadata": {},
   "outputs": [],
   "source": [
    "import requests\n",
    "\n",
    "import json\n",
    "from io import BytesIO, StringIO\n",
    "from zipfile import ZipFile\n",
    "\n",
    "import pprint\n",
    "import xml.etree.ElementTree as ET\n",
    "\n",
    "import pandas as pd\n",
    "import numpy as np"
   ]
  },
  {
   "cell_type": "code",
   "execution_count": 2,
   "metadata": {},
   "outputs": [],
   "source": [
    "def get_data(url: str, to_json=True, decode=True) -> list:\n",
    "    \"\"\"\n",
    "    :param url:\n",
    "    :return: list of dicts (json object)\n",
    "    \"\"\"\n",
    "    resp = requests.get(url).content\n",
    "    zipfile = ZipFile(BytesIO(resp))\n",
    "\n",
    "    zip_files = zipfile.namelist()\n",
    "    assert len(zip_files) == 1\n",
    "\n",
    "    data = zipfile.open(zip_files[0]).read()\n",
    "    \n",
    "    if decode is True:\n",
    "        data = data.decode('WINDOWS-1251')\n",
    "\n",
    "    if to_json is True:\n",
    "        data = json.loads(data)\n",
    "\n",
    "    return data"
   ]
  },
  {
   "cell_type": "code",
   "execution_count": 385,
   "metadata": {},
   "outputs": [],
   "source": [
    "urls = {\n",
    "    'childens_clinic': {\n",
    "        'url': 'https://op.mos.ru/EHDWSREST/catalog/export/get?id=861920',\n",
    "        'format': 'json',\n",
    "        'description': 'Поликлиническая помощь детям'\n",
    "    },\n",
    "    'adult_clinic': {\n",
    "        'url': 'https://op.mos.ru/EHDWSREST/catalog/export/get?id=887773',\n",
    "        'format': 'json',\n",
    "        'description': '# Поликлиническая помощь взрослым'\n",
    "    },\n",
    "    'social_food': {\n",
    "        'url': 'https://op.mos.ru/EHDWSREST/catalog/export/get?id=871418',\n",
    "        'format': 'json',\n",
    "        'description': '# Общественное питание в г.Москве'\n",
    "    },\n",
    "    'education': {\n",
    "        'url': 'https://op.mos.ru/EHDWSREST/catalog/export/get?id=888685',\n",
    "        'format': 'json',\n",
    "        'description': '# Образовательные учреждения города Москвы'\n",
    "    },\n",
    "    'wifi': {\n",
    "        'url': 'https://op.mos.ru/EHDWSREST/catalog/export/get?id=864835',\n",
    "        'format': 'xlsx',\n",
    "        'description': '# Городской Wi-Fi (xlsx)'\n",
    "    },\n",
    "    'rescue_garrison': {\n",
    "        'url': 'https://op.mos.ru/EHDWSREST/catalog/export/get?id=868132',\n",
    "        'format': 'xlsx',\n",
    "        'description': '# Данные о вызовах пожарно-спасательного гарнизона в г. Москва (xlsx)'\n",
    "    },\n",
    "    'regions': {\n",
    "        'url': 'https://op.mos.ru/EHDWSREST/catalog/export/get?id=2044',\n",
    "        'format': 'xlsx',\n",
    "        'description': '# районы + улицы (xlsx)'\n",
    "    },\n",
    "    'swimming_pool': {\n",
    "        'url': 'https://op.mos.ru/EHDWSREST/catalog/export/get?id=894596',\n",
    "        'format': 'json',\n",
    "        'description': 'Данные о бассейнах (крытых)'\n",
    "    },\n",
    "    'emergency_services': {\n",
    "        'url': 'https://op.mos.ru/EHDWSREST/catalog/export/get?id=402655',\n",
    "        'format': 'xlsx',\n",
    "        'description': 'Аварийные службы по ремонту водопровода, канализации, освещения и отопления в многоквартирных домах'\n",
    "    }\n",
    "}"
   ]
  },
  {
   "cell_type": "code",
   "execution_count": 4,
   "metadata": {},
   "outputs": [],
   "source": [
    "def mul_bool(array):\n",
    "    assert len(array) > 1\n",
    "    row = array[0]\n",
    "    for i in array[1:]:\n",
    "        row = row * i\n",
    "    return row\n",
    "\n",
    "def detect_district(address, regions):\n",
    "    indexes = []\n",
    "    for i in address.split(','):\n",
    "        indexes.append(regions.Address.str.contains(i.strip()).values)\n",
    "    if address.count(',') == 0:\n",
    "        result_indexes = indexes[0]\n",
    "    else:\n",
    "        result_indexes = mul_bool(indexes)\n",
    "    if regions[result_indexes].District.shape[0] == 0:\n",
    "        # ничего не нашлось\n",
    "        for i, addr_substr in enumerate(address.split(',')):\n",
    "            if addr_substr.isnumeric() is False:\n",
    "                return regions[indexes[i]].District.unique().tolist()\n",
    "        \n",
    "    return regions[result_indexes].District.unique().tolist()\n"
   ]
  },
  {
   "cell_type": "code",
   "execution_count": 209,
   "metadata": {},
   "outputs": [],
   "source": [
    "regions['District'] = regions.District.apply(lambda x: x.strip())"
   ]
  },
  {
   "cell_type": "code",
   "execution_count": 6,
   "metadata": {},
   "outputs": [
    {
     "data": {
      "text/plain": [
       "(59027, 13)"
      ]
     },
     "execution_count": 6,
     "metadata": {},
     "output_type": "execute_result"
    }
   ],
   "source": [
    "raw_regions = get_data(urls['regions']['url'], to_json=False, decode=False)\n",
    "regions = pd.read_excel(BytesIO(raw_regions))\n",
    "regions.shape"
   ]
  },
  {
   "cell_type": "code",
   "execution_count": 8,
   "metadata": {},
   "outputs": [
    {
     "data": {
      "text/plain": [
       "['район Царицыно', 'район Москворечье-Сабурово']"
      ]
     },
     "execution_count": 8,
     "metadata": {},
     "output_type": "execute_result"
    }
   ],
   "source": [
    "detect_district('Кантемировская, 25', regions)"
   ]
  },
  {
   "cell_type": "code",
   "execution_count": 9,
   "metadata": {},
   "outputs": [
    {
     "data": {
      "text/plain": [
       "['район Якиманка', 'Даниловский район']"
      ]
     },
     "execution_count": 9,
     "metadata": {},
     "output_type": "execute_result"
    }
   ],
   "source": [
    "detect_district('Мытная', regions)"
   ]
  },
  {
   "cell_type": "code",
   "execution_count": 10,
   "metadata": {},
   "outputs": [
    {
     "data": {
      "text/plain": [
       "['район Якиманка', 'Даниловский район']"
      ]
     },
     "execution_count": 10,
     "metadata": {},
     "output_type": "execute_result"
    }
   ],
   "source": [
    "detect_district('Мытная, 66', regions)"
   ]
  },
  {
   "cell_type": "code",
   "execution_count": 11,
   "metadata": {},
   "outputs": [
    {
     "data": {
      "text/plain": [
       "['район Орехово-Борисово Южное']"
      ]
     },
     "execution_count": 11,
     "metadata": {},
     "output_type": "execute_result"
    }
   ],
   "source": [
    "detect_district('Домодедовская, 44', regions)"
   ]
  },
  {
   "cell_type": "code",
   "execution_count": 12,
   "metadata": {},
   "outputs": [
    {
     "data": {
      "text/plain": [
       "['район Орехово-Борисово Северное']"
      ]
     },
     "execution_count": 12,
     "metadata": {},
     "output_type": "execute_result"
    }
   ],
   "source": [
    "detect_district('Борисовский проезд, 36', regions)"
   ]
  },
  {
   "cell_type": "code",
   "execution_count": 13,
   "metadata": {},
   "outputs": [
    {
     "data": {
      "text/plain": [
       "['район Орехово-Борисово Южное']"
      ]
     },
     "execution_count": 13,
     "metadata": {},
     "output_type": "execute_result"
    }
   ],
   "source": [
    "detect_district('Каширское, 148', regions)"
   ]
  },
  {
   "cell_type": "markdown",
   "metadata": {},
   "source": [
    "---"
   ]
  },
  {
   "cell_type": "markdown",
   "metadata": {},
   "source": [
    "## Качество жизни = (#поликлиник (детских) + #образовательных учреждений + #точек общественного питания) / Относительная опасность района,"
   ]
  },
  {
   "cell_type": "markdown",
   "metadata": {},
   "source": [
    "## Детские поликлиники"
   ]
  },
  {
   "cell_type": "code",
   "execution_count": 73,
   "metadata": {},
   "outputs": [
    {
     "data": {
      "text/plain": [
       "{'url': 'https://op.mos.ru/EHDWSREST/catalog/export/get?id=861920',\n",
       " 'format': 'json',\n",
       " 'description': 'Поликлиническая помощь детям'}"
      ]
     },
     "execution_count": 73,
     "metadata": {},
     "output_type": "execute_result"
    }
   ],
   "source": [
    "urls['childens_clinic']"
   ]
  },
  {
   "cell_type": "code",
   "execution_count": 15,
   "metadata": {},
   "outputs": [
    {
     "data": {
      "text/plain": [
       "(208, 26)"
      ]
     },
     "execution_count": 15,
     "metadata": {},
     "output_type": "execute_result"
    }
   ],
   "source": [
    "clinic_ch = get_data(\n",
    "    urls['childens_clinic']['url']\n",
    ")\n",
    "df_clinic_ch = pd.DataFrame(clinic_ch)\n",
    "df_clinic_ch.shape"
   ]
  },
  {
   "cell_type": "code",
   "execution_count": 58,
   "metadata": {
    "scrolled": true
   },
   "outputs": [
    {
     "data": {
      "text/plain": [
       "207    1\n",
       "206    1\n",
       "75     1\n",
       "74     1\n",
       "73     1\n",
       "Name: ObjectAddress, dtype: int64"
      ]
     },
     "execution_count": 58,
     "metadata": {},
     "output_type": "execute_result"
    }
   ],
   "source": [
    "# иногда там было несколько записей, проверил могли ли быть проблемы с тем, что одна пол\n",
    "df_clinic_ch.ObjectAddress\\\n",
    "    .apply(lambda x: len(list(set([i['District'] for i in x]))))\\\n",
    "    .sort_values(ascending=False)\\\n",
    "    .head()"
   ]
  },
  {
   "cell_type": "code",
   "execution_count": 60,
   "metadata": {},
   "outputs": [],
   "source": [
    "# ObjectAddress - бывают несколько записей (я беру первое), но сам район всегда повторяется\n",
    "df_clinic_ch['District'] = df_clinic_ch.ObjectAddress.apply(lambda x: x[0]['District'] if len(x) != 0 else None)"
   ]
  },
  {
   "cell_type": "code",
   "execution_count": 293,
   "metadata": {},
   "outputs": [],
   "source": [
    "df_clinic_ch['District'] = df_clinic_ch.District.apply(lambda x: x.strip() if x is not None else None)"
   ]
  },
  {
   "cell_type": "code",
   "execution_count": 301,
   "metadata": {},
   "outputs": [],
   "source": [
    "df_clinic_ch_count = df_clinic_ch[['ShortName', 'District']].groupby('District').count()\\\n",
    "    .reset_index()\\\n",
    "    .rename({'ShortName': 'ChildClinicCount'}, axis=1)"
   ]
  },
  {
   "cell_type": "code",
   "execution_count": 302,
   "metadata": {},
   "outputs": [
    {
     "data": {
      "text/html": [
       "<div>\n",
       "<style scoped>\n",
       "    .dataframe tbody tr th:only-of-type {\n",
       "        vertical-align: middle;\n",
       "    }\n",
       "\n",
       "    .dataframe tbody tr th {\n",
       "        vertical-align: top;\n",
       "    }\n",
       "\n",
       "    .dataframe thead th {\n",
       "        text-align: right;\n",
       "    }\n",
       "</style>\n",
       "<table border=\"1\" class=\"dataframe\">\n",
       "  <thead>\n",
       "    <tr style=\"text-align: right;\">\n",
       "      <th></th>\n",
       "      <th>District</th>\n",
       "      <th>ChildClinicCount</th>\n",
       "    </tr>\n",
       "  </thead>\n",
       "  <tbody>\n",
       "    <tr>\n",
       "      <th>0</th>\n",
       "      <td>Академический район</td>\n",
       "      <td>2</td>\n",
       "    </tr>\n",
       "    <tr>\n",
       "      <th>1</th>\n",
       "      <td>Алексеевский район</td>\n",
       "      <td>2</td>\n",
       "    </tr>\n",
       "    <tr>\n",
       "      <th>2</th>\n",
       "      <td>Алтуфьевский район</td>\n",
       "      <td>1</td>\n",
       "    </tr>\n",
       "    <tr>\n",
       "      <th>3</th>\n",
       "      <td>Бабушкинский район</td>\n",
       "      <td>1</td>\n",
       "    </tr>\n",
       "    <tr>\n",
       "      <th>4</th>\n",
       "      <td>Басманный район</td>\n",
       "      <td>3</td>\n",
       "    </tr>\n",
       "  </tbody>\n",
       "</table>\n",
       "</div>"
      ],
      "text/plain": [
       "              District  ChildClinicCount\n",
       "0  Академический район                 2\n",
       "1   Алексеевский район                 2\n",
       "2   Алтуфьевский район                 1\n",
       "3   Бабушкинский район                 1\n",
       "4      Басманный район                 3"
      ]
     },
     "execution_count": 302,
     "metadata": {},
     "output_type": "execute_result"
    }
   ],
   "source": [
    "df_clinic_ch_count.head()"
   ]
  },
  {
   "cell_type": "markdown",
   "metadata": {},
   "source": [
    "## Образовательные учреждения"
   ]
  },
  {
   "cell_type": "code",
   "execution_count": 89,
   "metadata": {},
   "outputs": [
    {
     "data": {
      "text/plain": [
       "{'url': 'https://op.mos.ru/EHDWSREST/catalog/export/get?id=888685',\n",
       " 'format': 'json',\n",
       " 'description': '# Образовательные учреждения города Москвы'}"
      ]
     },
     "execution_count": 89,
     "metadata": {},
     "output_type": "execute_result"
    }
   ],
   "source": [
    "urls['education']"
   ]
  },
  {
   "cell_type": "code",
   "execution_count": 91,
   "metadata": {},
   "outputs": [
    {
     "data": {
      "text/plain": [
       "(608, 22)"
      ]
     },
     "execution_count": 91,
     "metadata": {},
     "output_type": "execute_result"
    }
   ],
   "source": [
    "educ = get_data(\n",
    "    urls['education']['url'],\n",
    "    to_json=True,\n",
    "    decode=True\n",
    ")\n",
    "df_educ = pd.DataFrame(educ)\n",
    "df_educ.shape"
   ]
  },
  {
   "cell_type": "code",
   "execution_count": 145,
   "metadata": {
    "scrolled": true
   },
   "outputs": [],
   "source": [
    "educ_buf = df_educ[['FullName', 'InstitutionsAddresses']].copy()\n",
    "educ_buf['District'] = educ_buf.InstitutionsAddresses.apply(lambda x: list(set([i['District'] for i in x])))\n",
    "educ_buf = educ_buf.drop('InstitutionsAddresses', axis=1)"
   ]
  },
  {
   "cell_type": "code",
   "execution_count": 147,
   "metadata": {},
   "outputs": [],
   "source": [
    "# explode на пандасе <0.15\n",
    "educ_buf = pd.DataFrame({\n",
    "    'FullName': educ_buf.FullName.repeat(educ_buf.District.str.len()),\n",
    "    'District': np.concatenate(educ_buf.District.values)\n",
    "})"
   ]
  },
  {
   "cell_type": "code",
   "execution_count": 298,
   "metadata": {},
   "outputs": [
    {
     "data": {
      "text/html": [
       "<div>\n",
       "<style scoped>\n",
       "    .dataframe tbody tr th:only-of-type {\n",
       "        vertical-align: middle;\n",
       "    }\n",
       "\n",
       "    .dataframe tbody tr th {\n",
       "        vertical-align: top;\n",
       "    }\n",
       "\n",
       "    .dataframe thead th {\n",
       "        text-align: right;\n",
       "    }\n",
       "</style>\n",
       "<table border=\"1\" class=\"dataframe\">\n",
       "  <thead>\n",
       "    <tr style=\"text-align: right;\">\n",
       "      <th></th>\n",
       "      <th>District</th>\n",
       "      <th>educCount</th>\n",
       "    </tr>\n",
       "  </thead>\n",
       "  <tbody>\n",
       "    <tr>\n",
       "      <th>0</th>\n",
       "      <td>Академический район</td>\n",
       "      <td>9</td>\n",
       "    </tr>\n",
       "    <tr>\n",
       "      <th>1</th>\n",
       "      <td>Алексеевский район</td>\n",
       "      <td>7</td>\n",
       "    </tr>\n",
       "    <tr>\n",
       "      <th>2</th>\n",
       "      <td>Алтуфьевский район</td>\n",
       "      <td>4</td>\n",
       "    </tr>\n",
       "    <tr>\n",
       "      <th>3</th>\n",
       "      <td>Бабушкинский район</td>\n",
       "      <td>5</td>\n",
       "    </tr>\n",
       "    <tr>\n",
       "      <th>4</th>\n",
       "      <td>Басманный район</td>\n",
       "      <td>17</td>\n",
       "    </tr>\n",
       "  </tbody>\n",
       "</table>\n",
       "</div>"
      ],
      "text/plain": [
       "              District  educCount\n",
       "0  Академический район          9\n",
       "1   Алексеевский район          7\n",
       "2   Алтуфьевский район          4\n",
       "3   Бабушкинский район          5\n",
       "4      Басманный район         17"
      ]
     },
     "execution_count": 298,
     "metadata": {},
     "output_type": "execute_result"
    }
   ],
   "source": [
    "educ_count = educ_buf.drop_duplicates().groupby('District').count()\\\n",
    "    .reset_index()\\\n",
    "    .rename({'FullName': 'educCount'}, axis=1)\n",
    "educ_count.head()"
   ]
  },
  {
   "cell_type": "markdown",
   "metadata": {},
   "source": [
    "## Точек общественного питания"
   ]
  },
  {
   "cell_type": "code",
   "execution_count": 156,
   "metadata": {},
   "outputs": [
    {
     "data": {
      "text/plain": [
       "{'url': 'https://op.mos.ru/EHDWSREST/catalog/export/get?id=871418',\n",
       " 'format': 'json',\n",
       " 'description': '# Общественное питание в г.Москве'}"
      ]
     },
     "execution_count": 156,
     "metadata": {},
     "output_type": "execute_result"
    }
   ],
   "source": [
    "urls['social_food']"
   ]
  },
  {
   "cell_type": "code",
   "execution_count": 158,
   "metadata": {},
   "outputs": [
    {
     "data": {
      "text/plain": [
       "(16359, 15)"
      ]
     },
     "execution_count": 158,
     "metadata": {},
     "output_type": "execute_result"
    }
   ],
   "source": [
    "food = get_data(\n",
    "    urls['social_food']['url'],\n",
    "    to_json=True,\n",
    "    decode=True\n",
    ")\n",
    "df_food = pd.DataFrame(food)\n",
    "df_food.shape"
   ]
  },
  {
   "cell_type": "code",
   "execution_count": 304,
   "metadata": {
    "scrolled": true
   },
   "outputs": [
    {
     "data": {
      "text/html": [
       "<div>\n",
       "<style scoped>\n",
       "    .dataframe tbody tr th:only-of-type {\n",
       "        vertical-align: middle;\n",
       "    }\n",
       "\n",
       "    .dataframe tbody tr th {\n",
       "        vertical-align: top;\n",
       "    }\n",
       "\n",
       "    .dataframe thead th {\n",
       "        text-align: right;\n",
       "    }\n",
       "</style>\n",
       "<table border=\"1\" class=\"dataframe\">\n",
       "  <thead>\n",
       "    <tr style=\"text-align: right;\">\n",
       "      <th></th>\n",
       "      <th>District</th>\n",
       "      <th>FoodCount</th>\n",
       "    </tr>\n",
       "  </thead>\n",
       "  <tbody>\n",
       "    <tr>\n",
       "      <th>0</th>\n",
       "      <td>Академический район</td>\n",
       "      <td>135</td>\n",
       "    </tr>\n",
       "    <tr>\n",
       "      <th>1</th>\n",
       "      <td>Алексеевский район</td>\n",
       "      <td>140</td>\n",
       "    </tr>\n",
       "    <tr>\n",
       "      <th>2</th>\n",
       "      <td>Алтуфьевский район</td>\n",
       "      <td>34</td>\n",
       "    </tr>\n",
       "    <tr>\n",
       "      <th>3</th>\n",
       "      <td>Бабушкинский район</td>\n",
       "      <td>59</td>\n",
       "    </tr>\n",
       "    <tr>\n",
       "      <th>4</th>\n",
       "      <td>Басманный район</td>\n",
       "      <td>692</td>\n",
       "    </tr>\n",
       "  </tbody>\n",
       "</table>\n",
       "</div>"
      ],
      "text/plain": [
       "              District  FoodCount\n",
       "0  Академический район        135\n",
       "1   Алексеевский район        140\n",
       "2   Алтуфьевский район         34\n",
       "3   Бабушкинский район         59\n",
       "4      Басманный район        692"
      ]
     },
     "execution_count": 304,
     "metadata": {},
     "output_type": "execute_result"
    }
   ],
   "source": [
    "df_food_count = df_food[['Name', 'District']].groupby('District').count()\\\n",
    "    .reset_index()\\\n",
    "    .rename({'Name': 'FoodCount'}, axis=1)\n",
    "df_food_count.head()"
   ]
  },
  {
   "cell_type": "markdown",
   "metadata": {},
   "source": [
    "## Относительная опасность района"
   ]
  },
  {
   "cell_type": "code",
   "execution_count": 162,
   "metadata": {},
   "outputs": [
    {
     "data": {
      "text/plain": [
       "{'url': 'https://op.mos.ru/EHDWSREST/catalog/export/get?id=868132',\n",
       " 'format': 'xlsx',\n",
       " 'description': '# Данные о вызовах пожарно-спасательного гарнизона в г. Москва (xlsx)'}"
      ]
     },
     "execution_count": 162,
     "metadata": {},
     "output_type": "execute_result"
    }
   ],
   "source": [
    "urls['rescue_garrison']"
   ]
  },
  {
   "cell_type": "code",
   "execution_count": 169,
   "metadata": {},
   "outputs": [
    {
     "data": {
      "text/plain": [
       "(726, 6)"
      ]
     },
     "execution_count": 169,
     "metadata": {},
     "output_type": "execute_result"
    }
   ],
   "source": [
    "rescue = get_data(\n",
    "    urls['rescue_garrison']['url'],\n",
    "    to_json=False,\n",
    "    decode=False\n",
    ")\n",
    "df_rescue = pd.read_excel(BytesIO(rescue))\n",
    "df_rescue.shape"
   ]
  },
  {
   "cell_type": "code",
   "execution_count": 170,
   "metadata": {},
   "outputs": [
    {
     "data": {
      "text/html": [
       "<div>\n",
       "<style scoped>\n",
       "    .dataframe tbody tr th:only-of-type {\n",
       "        vertical-align: middle;\n",
       "    }\n",
       "\n",
       "    .dataframe tbody tr th {\n",
       "        vertical-align: top;\n",
       "    }\n",
       "\n",
       "    .dataframe thead th {\n",
       "        text-align: right;\n",
       "    }\n",
       "</style>\n",
       "<table border=\"1\" class=\"dataframe\">\n",
       "  <thead>\n",
       "    <tr style=\"text-align: right;\">\n",
       "      <th></th>\n",
       "      <th>ID</th>\n",
       "      <th>AdmArea</th>\n",
       "      <th>Year</th>\n",
       "      <th>global_id</th>\n",
       "      <th>Month</th>\n",
       "      <th>Calls</th>\n",
       "    </tr>\n",
       "  </thead>\n",
       "  <tbody>\n",
       "    <tr>\n",
       "      <th>0</th>\n",
       "      <td>1</td>\n",
       "      <td>Центральный административный округ</td>\n",
       "      <td>2015</td>\n",
       "      <td>37153160</td>\n",
       "      <td>Январь</td>\n",
       "      <td>408</td>\n",
       "    </tr>\n",
       "    <tr>\n",
       "      <th>1</th>\n",
       "      <td>2</td>\n",
       "      <td>Северный административный округ</td>\n",
       "      <td>2015</td>\n",
       "      <td>37153161</td>\n",
       "      <td>Январь</td>\n",
       "      <td>408</td>\n",
       "    </tr>\n",
       "    <tr>\n",
       "      <th>2</th>\n",
       "      <td>3</td>\n",
       "      <td>Северо-Восточный административный округ</td>\n",
       "      <td>2015</td>\n",
       "      <td>37153162</td>\n",
       "      <td>Январь</td>\n",
       "      <td>445</td>\n",
       "    </tr>\n",
       "    <tr>\n",
       "      <th>3</th>\n",
       "      <td>4</td>\n",
       "      <td>Восточный административный округ</td>\n",
       "      <td>2015</td>\n",
       "      <td>37153163</td>\n",
       "      <td>Январь</td>\n",
       "      <td>619</td>\n",
       "    </tr>\n",
       "    <tr>\n",
       "      <th>4</th>\n",
       "      <td>5</td>\n",
       "      <td>Юго-Восточный административный округ</td>\n",
       "      <td>2015</td>\n",
       "      <td>37153164</td>\n",
       "      <td>Январь</td>\n",
       "      <td>541</td>\n",
       "    </tr>\n",
       "  </tbody>\n",
       "</table>\n",
       "</div>"
      ],
      "text/plain": [
       "   ID                                  AdmArea  Year  global_id   Month  Calls\n",
       "0   1       Центральный административный округ  2015   37153160  Январь    408\n",
       "1   2          Северный административный округ  2015   37153161  Январь    408\n",
       "2   3  Северо-Восточный административный округ  2015   37153162  Январь    445\n",
       "3   4         Восточный административный округ  2015   37153163  Январь    619\n",
       "4   5     Юго-Восточный административный округ  2015   37153164  Январь    541"
      ]
     },
     "execution_count": 170,
     "metadata": {},
     "output_type": "execute_result"
    }
   ],
   "source": [
    "df_rescue.head()"
   ]
  },
  {
   "cell_type": "markdown",
   "metadata": {},
   "source": [
    "В данных о вызовах пожарно спасательного гарнизона нету районов, поэтому не получится посчитать опасность района точно. Я попробую усреднить количество звонков для каждого района (в административный округ входят районы), таким образом кол-во звонков для каждого района будет равно:\n",
    "**Кол-во звонков в АО / Кол-во районов в АО**"
   ]
  },
  {
   "cell_type": "code",
   "execution_count": 180,
   "metadata": {},
   "outputs": [],
   "source": [
    "df_rescue['AdmArea'] = df_rescue.AdmArea.apply(lambda x: x.strip())"
   ]
  },
  {
   "cell_type": "code",
   "execution_count": 201,
   "metadata": {},
   "outputs": [],
   "source": [
    "# от очепяток даже strip не спасает(\n",
    "\n",
    "to_repl = [\n",
    "    ['Северо-Востосный административный округ', 'Северо-Восточный административный округ'],\n",
    "    ['Северо-Закпадный административный округ', 'Северо-Западный административный округ'],\n",
    "    ['Северо-Заподный административный округ', 'Северо-Западный административный округ'],\n",
    "    ['Северно-Западный административный округ', 'Северо-Западный административный округ'],\n",
    "\n",
    "    ['Троицкий и Новомосковский  административные округа', 'Троицкий и Новомосковский административные округа'],\n",
    "    ['Троицкий и Новомосковский административные округ а', 'Троицкий и Новомосковский административные округа'],\n",
    "    ['Троицкий и Новомосковский административный округа', 'Троицкий и Новомосковский административные округа'],\n",
    "    ['Троицкий и Новомосковский административные  округа', 'Троицкий и Новомосковский административные округа'],\n",
    "\n",
    "    ['Юго-Востосный административный округ', 'Юго-Восточный административный округ'],\n",
    "    ['Юго-Восточнный административный округ', 'Юго-Восточный административный округ'],\n",
    "    ['Юго=Восточный административный округ', 'Юго-Восточный административный округ'],\n",
    "\n",
    "    ['Юго-западный административный округ', 'Юго-Западный административный округ'],\n",
    "    ['ЮгоЗападный административный округ', 'Юго-Западный административный округ'],\n",
    "    \n",
    "    ['Запдный административный округ', 'Западный административный округ'],\n",
    "]\n",
    "\n",
    "for repl in to_repl:\n",
    "    df_rescue['AdmArea'] = df_rescue.AdmArea.str.replace(repl[0], repl[1])"
   ]
  },
  {
   "cell_type": "code",
   "execution_count": 203,
   "metadata": {},
   "outputs": [
    {
     "data": {
      "text/html": [
       "<div>\n",
       "<style scoped>\n",
       "    .dataframe tbody tr th:only-of-type {\n",
       "        vertical-align: middle;\n",
       "    }\n",
       "\n",
       "    .dataframe tbody tr th {\n",
       "        vertical-align: top;\n",
       "    }\n",
       "\n",
       "    .dataframe thead th {\n",
       "        text-align: right;\n",
       "    }\n",
       "</style>\n",
       "<table border=\"1\" class=\"dataframe\">\n",
       "  <thead>\n",
       "    <tr style=\"text-align: right;\">\n",
       "      <th></th>\n",
       "      <th>Calls</th>\n",
       "    </tr>\n",
       "    <tr>\n",
       "      <th>AdmArea</th>\n",
       "      <th></th>\n",
       "    </tr>\n",
       "  </thead>\n",
       "  <tbody>\n",
       "    <tr>\n",
       "      <th>Восточный административный округ</th>\n",
       "      <td>43294</td>\n",
       "    </tr>\n",
       "    <tr>\n",
       "      <th>Западный административный округ</th>\n",
       "      <td>36810</td>\n",
       "    </tr>\n",
       "    <tr>\n",
       "      <th>Зеленоградский административный округ</th>\n",
       "      <td>10424</td>\n",
       "    </tr>\n",
       "    <tr>\n",
       "      <th>Северный административный округ</th>\n",
       "      <td>31204</td>\n",
       "    </tr>\n",
       "    <tr>\n",
       "      <th>Северо-Восточный административный округ</th>\n",
       "      <td>38858</td>\n",
       "    </tr>\n",
       "    <tr>\n",
       "      <th>Северо-Западный административный округ</th>\n",
       "      <td>27596</td>\n",
       "    </tr>\n",
       "    <tr>\n",
       "      <th>Троицкий и Новомосковский административные округа</th>\n",
       "      <td>24740</td>\n",
       "    </tr>\n",
       "    <tr>\n",
       "      <th>Центральный административный округ</th>\n",
       "      <td>30053</td>\n",
       "    </tr>\n",
       "    <tr>\n",
       "      <th>Юго-Восточный административный округ</th>\n",
       "      <td>40289</td>\n",
       "    </tr>\n",
       "    <tr>\n",
       "      <th>Юго-Западный административный округ</th>\n",
       "      <td>32372</td>\n",
       "    </tr>\n",
       "    <tr>\n",
       "      <th>Южный административный округ</th>\n",
       "      <td>44315</td>\n",
       "    </tr>\n",
       "  </tbody>\n",
       "</table>\n",
       "</div>"
      ],
      "text/plain": [
       "                                                   Calls\n",
       "AdmArea                                                 \n",
       "Восточный административный округ                   43294\n",
       "Западный административный округ                    36810\n",
       "Зеленоградский административный округ              10424\n",
       "Северный административный округ                    31204\n",
       "Северо-Восточный административный округ            38858\n",
       "Северо-Западный административный округ             27596\n",
       "Троицкий и Новомосковский административные округа  24740\n",
       "Центральный административный округ                 30053\n",
       "Юго-Восточный административный округ               40289\n",
       "Юго-Западный административный округ                32372\n",
       "Южный административный округ                       44315"
      ]
     },
     "execution_count": 203,
     "metadata": {},
     "output_type": "execute_result"
    }
   ],
   "source": [
    "# далее применим метод по суммированию показателей для рассчета интегрального показателя\n",
    "# источник: http://innoj.tversu.ru/Vipusk1(10)2016/2%20-%20%D0%9A%D0%BB%D1%8E%D1%88%D0%BD%D0%B8%D0%BA%D0%BE%D0%B2%D0%B0.pdf#7\n",
    "df_rescue[['AdmArea', 'Calls']].groupby('AdmArea').sum()"
   ]
  },
  {
   "cell_type": "code",
   "execution_count": 262,
   "metadata": {},
   "outputs": [],
   "source": [
    "adm_distr_rescue = regions[['AdmArea', 'District']].drop_duplicates().set_index('AdmArea').join(\n",
    "    df_rescue[['AdmArea', 'Calls']].groupby('AdmArea').sum()\n",
    ").reset_index()"
   ]
  },
  {
   "cell_type": "code",
   "execution_count": 263,
   "metadata": {
    "scrolled": true
   },
   "outputs": [
    {
     "data": {
      "text/html": [
       "<div>\n",
       "<style scoped>\n",
       "    .dataframe tbody tr th:only-of-type {\n",
       "        vertical-align: middle;\n",
       "    }\n",
       "\n",
       "    .dataframe tbody tr th {\n",
       "        vertical-align: top;\n",
       "    }\n",
       "\n",
       "    .dataframe thead th {\n",
       "        text-align: right;\n",
       "    }\n",
       "</style>\n",
       "<table border=\"1\" class=\"dataframe\">\n",
       "  <thead>\n",
       "    <tr style=\"text-align: right;\">\n",
       "      <th></th>\n",
       "      <th>DistrictsCount</th>\n",
       "    </tr>\n",
       "  </thead>\n",
       "  <tbody>\n",
       "    <tr>\n",
       "      <th>Северо-Восточный административный округ</th>\n",
       "      <td>17</td>\n",
       "    </tr>\n",
       "    <tr>\n",
       "      <th>Восточный административный округ</th>\n",
       "      <td>16</td>\n",
       "    </tr>\n",
       "    <tr>\n",
       "      <th>Южный административный округ</th>\n",
       "      <td>16</td>\n",
       "    </tr>\n",
       "    <tr>\n",
       "      <th>Северный административный округ</th>\n",
       "      <td>16</td>\n",
       "    </tr>\n",
       "    <tr>\n",
       "      <th>Западный административный округ</th>\n",
       "      <td>13</td>\n",
       "    </tr>\n",
       "    <tr>\n",
       "      <th>Юго-Восточный административный округ</th>\n",
       "      <td>12</td>\n",
       "    </tr>\n",
       "    <tr>\n",
       "      <th>Юго-Западный административный округ</th>\n",
       "      <td>12</td>\n",
       "    </tr>\n",
       "    <tr>\n",
       "      <th>Центральный административный округ</th>\n",
       "      <td>10</td>\n",
       "    </tr>\n",
       "    <tr>\n",
       "      <th>Северо-Западный административный округ</th>\n",
       "      <td>8</td>\n",
       "    </tr>\n",
       "    <tr>\n",
       "      <th>Зеленоградский административный округ</th>\n",
       "      <td>5</td>\n",
       "    </tr>\n",
       "    <tr>\n",
       "      <th>Троицкий административный округ</th>\n",
       "      <td>2</td>\n",
       "    </tr>\n",
       "    <tr>\n",
       "      <th>Новомосковский административный округ</th>\n",
       "      <td>1</td>\n",
       "    </tr>\n",
       "  </tbody>\n",
       "</table>\n",
       "</div>"
      ],
      "text/plain": [
       "                                         DistrictsCount\n",
       "Северо-Восточный административный округ              17\n",
       "Восточный административный округ                     16\n",
       "Южный административный округ                         16\n",
       "Северный административный округ                      16\n",
       "Западный административный округ                      13\n",
       "Юго-Восточный административный округ                 12\n",
       "Юго-Западный административный округ                  12\n",
       "Центральный административный округ                   10\n",
       "Северо-Западный административный округ                8\n",
       "Зеленоградский административный округ                 5\n",
       "Троицкий административный округ                       2\n",
       "Новомосковский административный округ                 1"
      ]
     },
     "execution_count": 263,
     "metadata": {},
     "output_type": "execute_result"
    }
   ],
   "source": [
    "adm_distr_rescue.AdmArea.value_counts()\\\n",
    "    .to_frame()\\\n",
    "    .rename({'AdmArea': 'DistrictsCount'}, axis=1)"
   ]
  },
  {
   "cell_type": "code",
   "execution_count": 264,
   "metadata": {},
   "outputs": [],
   "source": [
    "adm_distr_rescue = adm_distr_rescue.set_index('AdmArea').join(\n",
    "    adm_distr_rescue.AdmArea.value_counts()\\\n",
    "        .to_frame()\\\n",
    "        .rename({'AdmArea': 'DistrictsCount'}, axis=1)\n",
    ").reset_index()\\\n",
    "    .rename({'index': 'AdmArea'}, axis=1)"
   ]
  },
  {
   "cell_type": "code",
   "execution_count": 272,
   "metadata": {},
   "outputs": [],
   "source": [
    "adm_distr_rescue['CallsDistrict'] = adm_distr_rescue.Calls.values / adm_distr_rescue.DistrictsCount.values"
   ]
  },
  {
   "cell_type": "code",
   "execution_count": 275,
   "metadata": {},
   "outputs": [
    {
     "data": {
      "text/html": [
       "<div>\n",
       "<style scoped>\n",
       "    .dataframe tbody tr th:only-of-type {\n",
       "        vertical-align: middle;\n",
       "    }\n",
       "\n",
       "    .dataframe tbody tr th {\n",
       "        vertical-align: top;\n",
       "    }\n",
       "\n",
       "    .dataframe thead th {\n",
       "        text-align: right;\n",
       "    }\n",
       "</style>\n",
       "<table border=\"1\" class=\"dataframe\">\n",
       "  <thead>\n",
       "    <tr style=\"text-align: right;\">\n",
       "      <th></th>\n",
       "      <th>AdmArea</th>\n",
       "      <th>District</th>\n",
       "      <th>Calls</th>\n",
       "      <th>DistrictsCount</th>\n",
       "      <th>CallsDistrict</th>\n",
       "    </tr>\n",
       "  </thead>\n",
       "  <tbody>\n",
       "    <tr>\n",
       "      <th>0</th>\n",
       "      <td>Восточный административный округ</td>\n",
       "      <td>район Перово</td>\n",
       "      <td>43294.0</td>\n",
       "      <td>16</td>\n",
       "      <td>2705.875</td>\n",
       "    </tr>\n",
       "    <tr>\n",
       "      <th>1</th>\n",
       "      <td>Восточный административный округ</td>\n",
       "      <td>район Северное Измайлово</td>\n",
       "      <td>43294.0</td>\n",
       "      <td>16</td>\n",
       "      <td>2705.875</td>\n",
       "    </tr>\n",
       "    <tr>\n",
       "      <th>2</th>\n",
       "      <td>Восточный административный округ</td>\n",
       "      <td>район Измайлово</td>\n",
       "      <td>43294.0</td>\n",
       "      <td>16</td>\n",
       "      <td>2705.875</td>\n",
       "    </tr>\n",
       "    <tr>\n",
       "      <th>3</th>\n",
       "      <td>Восточный административный округ</td>\n",
       "      <td>район Восточный</td>\n",
       "      <td>43294.0</td>\n",
       "      <td>16</td>\n",
       "      <td>2705.875</td>\n",
       "    </tr>\n",
       "    <tr>\n",
       "      <th>4</th>\n",
       "      <td>Восточный административный округ</td>\n",
       "      <td>район Новогиреево</td>\n",
       "      <td>43294.0</td>\n",
       "      <td>16</td>\n",
       "      <td>2705.875</td>\n",
       "    </tr>\n",
       "  </tbody>\n",
       "</table>\n",
       "</div>"
      ],
      "text/plain": [
       "                            AdmArea                  District    Calls  \\\n",
       "0  Восточный административный округ              район Перово  43294.0   \n",
       "1  Восточный административный округ  район Северное Измайлово  43294.0   \n",
       "2  Восточный административный округ           район Измайлово  43294.0   \n",
       "3  Восточный административный округ           район Восточный  43294.0   \n",
       "4  Восточный административный округ         район Новогиреево  43294.0   \n",
       "\n",
       "   DistrictsCount  CallsDistrict  \n",
       "0              16       2705.875  \n",
       "1              16       2705.875  \n",
       "2              16       2705.875  \n",
       "3              16       2705.875  \n",
       "4              16       2705.875  "
      ]
     },
     "execution_count": 275,
     "metadata": {},
     "output_type": "execute_result"
    }
   ],
   "source": [
    "adm_distr_rescue.head()"
   ]
  },
  {
   "cell_type": "markdown",
   "metadata": {},
   "source": [
    "## Соединяем все данные"
   ]
  },
  {
   "cell_type": "code",
   "execution_count": 318,
   "metadata": {},
   "outputs": [
    {
     "data": {
      "text/html": [
       "<div>\n",
       "<style scoped>\n",
       "    .dataframe tbody tr th:only-of-type {\n",
       "        vertical-align: middle;\n",
       "    }\n",
       "\n",
       "    .dataframe tbody tr th {\n",
       "        vertical-align: top;\n",
       "    }\n",
       "\n",
       "    .dataframe thead th {\n",
       "        text-align: right;\n",
       "    }\n",
       "</style>\n",
       "<table border=\"1\" class=\"dataframe\">\n",
       "  <thead>\n",
       "    <tr style=\"text-align: right;\">\n",
       "      <th></th>\n",
       "      <th>District</th>\n",
       "    </tr>\n",
       "  </thead>\n",
       "  <tbody>\n",
       "    <tr>\n",
       "      <th>0</th>\n",
       "      <td>район Матушкино</td>\n",
       "    </tr>\n",
       "    <tr>\n",
       "      <th>1</th>\n",
       "      <td>район Крюково</td>\n",
       "    </tr>\n",
       "    <tr>\n",
       "      <th>2</th>\n",
       "      <td>район Савёлки</td>\n",
       "    </tr>\n",
       "    <tr>\n",
       "      <th>3</th>\n",
       "      <td>район Старое Крюково</td>\n",
       "    </tr>\n",
       "    <tr>\n",
       "      <th>4</th>\n",
       "      <td>Ломоносовский район</td>\n",
       "    </tr>\n",
       "  </tbody>\n",
       "</table>\n",
       "</div>"
      ],
      "text/plain": [
       "               District\n",
       "0       район Матушкино\n",
       "1         район Крюково\n",
       "2         район Савёлки\n",
       "3  район Старое Крюково\n",
       "4   Ломоносовский район"
      ]
     },
     "execution_count": 318,
     "metadata": {},
     "output_type": "execute_result"
    }
   ],
   "source": [
    "df = pd.DataFrame(regions.District.unique()).rename({0: 'District'}, axis=1)\n",
    "df.head()"
   ]
  },
  {
   "cell_type": "code",
   "execution_count": 333,
   "metadata": {
    "scrolled": true
   },
   "outputs": [],
   "source": [
    "df = df.set_index('District').join(\n",
    "    df_clinic_ch_count.set_index('District'),\n",
    "    how='left'\n",
    ").join(\n",
    "    educ_count.set_index('District'),\n",
    "    how='left'\n",
    ").join(\n",
    "    df_food_count.set_index('District'),\n",
    "    how='left'\n",
    ").join(\n",
    "    adm_distr_rescue[['District', 'CallsDistrict', 'AdmArea', 'Calls']]\\\n",
    "        .rename({'Calls': 'AdmAreaCalls'}, axis=1)\\\n",
    "        .set_index('District'),\n",
    "    how='left'\n",
    ")"
   ]
  },
  {
   "cell_type": "code",
   "execution_count": 336,
   "metadata": {},
   "outputs": [],
   "source": [
    "df = df.reset_index()"
   ]
  },
  {
   "cell_type": "code",
   "execution_count": 337,
   "metadata": {},
   "outputs": [
    {
     "data": {
      "text/html": [
       "<div>\n",
       "<style scoped>\n",
       "    .dataframe tbody tr th:only-of-type {\n",
       "        vertical-align: middle;\n",
       "    }\n",
       "\n",
       "    .dataframe tbody tr th {\n",
       "        vertical-align: top;\n",
       "    }\n",
       "\n",
       "    .dataframe thead th {\n",
       "        text-align: right;\n",
       "    }\n",
       "</style>\n",
       "<table border=\"1\" class=\"dataframe\">\n",
       "  <thead>\n",
       "    <tr style=\"text-align: right;\">\n",
       "      <th></th>\n",
       "      <th>District</th>\n",
       "      <th>ChildClinicCount</th>\n",
       "      <th>educCount</th>\n",
       "      <th>FoodCount</th>\n",
       "      <th>CallsDistrict</th>\n",
       "      <th>AdmArea</th>\n",
       "      <th>AdmAreaCalls</th>\n",
       "    </tr>\n",
       "  </thead>\n",
       "  <tbody>\n",
       "    <tr>\n",
       "      <th>0</th>\n",
       "      <td>район Матушкино</td>\n",
       "      <td>1.0</td>\n",
       "      <td>4</td>\n",
       "      <td>57</td>\n",
       "      <td>2084.800000</td>\n",
       "      <td>Зеленоградский административный округ</td>\n",
       "      <td>10424.0</td>\n",
       "    </tr>\n",
       "    <tr>\n",
       "      <th>1</th>\n",
       "      <td>район Крюково</td>\n",
       "      <td>1.0</td>\n",
       "      <td>6</td>\n",
       "      <td>79</td>\n",
       "      <td>2084.800000</td>\n",
       "      <td>Зеленоградский административный округ</td>\n",
       "      <td>10424.0</td>\n",
       "    </tr>\n",
       "    <tr>\n",
       "      <th>2</th>\n",
       "      <td>район Савёлки</td>\n",
       "      <td>1.0</td>\n",
       "      <td>3</td>\n",
       "      <td>43</td>\n",
       "      <td>2084.800000</td>\n",
       "      <td>Зеленоградский административный округ</td>\n",
       "      <td>10424.0</td>\n",
       "    </tr>\n",
       "    <tr>\n",
       "      <th>3</th>\n",
       "      <td>район Старое Крюково</td>\n",
       "      <td>1.0</td>\n",
       "      <td>5</td>\n",
       "      <td>23</td>\n",
       "      <td>2084.800000</td>\n",
       "      <td>Зеленоградский административный округ</td>\n",
       "      <td>10424.0</td>\n",
       "    </tr>\n",
       "    <tr>\n",
       "      <th>4</th>\n",
       "      <td>Ломоносовский район</td>\n",
       "      <td>2.0</td>\n",
       "      <td>10</td>\n",
       "      <td>65</td>\n",
       "      <td>2697.666667</td>\n",
       "      <td>Юго-Западный административный округ</td>\n",
       "      <td>32372.0</td>\n",
       "    </tr>\n",
       "  </tbody>\n",
       "</table>\n",
       "</div>"
      ],
      "text/plain": [
       "               District  ChildClinicCount  educCount  FoodCount  \\\n",
       "0       район Матушкино               1.0          4         57   \n",
       "1         район Крюково               1.0          6         79   \n",
       "2         район Савёлки               1.0          3         43   \n",
       "3  район Старое Крюково               1.0          5         23   \n",
       "4   Ломоносовский район               2.0         10         65   \n",
       "\n",
       "   CallsDistrict                                AdmArea  AdmAreaCalls  \n",
       "0    2084.800000  Зеленоградский административный округ       10424.0  \n",
       "1    2084.800000  Зеленоградский административный округ       10424.0  \n",
       "2    2084.800000  Зеленоградский административный округ       10424.0  \n",
       "3    2084.800000  Зеленоградский административный округ       10424.0  \n",
       "4    2697.666667    Юго-Западный административный округ       32372.0  "
      ]
     },
     "execution_count": 337,
     "metadata": {},
     "output_type": "execute_result"
    }
   ],
   "source": [
    "df.head()"
   ]
  },
  {
   "cell_type": "markdown",
   "metadata": {},
   "source": [
    "Качество жизни = (#поликлиник (детских) + #образовательных учреждений + #точек общественного питания) / Относительная опасность района,"
   ]
  },
  {
   "cell_type": "code",
   "execution_count": 344,
   "metadata": {},
   "outputs": [],
   "source": [
    "df['qualityLife'] = (df['ChildClinicCount'].values + df['educCount'].values + df['FoodCount'].values) / df['CallsDistrict'].values"
   ]
  },
  {
   "cell_type": "markdown",
   "metadata": {},
   "source": [
    "Топ 10 районов по качеству жизни исходя из формулы выше"
   ]
  },
  {
   "cell_type": "code",
   "execution_count": 352,
   "metadata": {},
   "outputs": [
    {
     "data": {
      "text/plain": [
       "58          Тверской район\n",
       "54       Пресненский район\n",
       "53         Басманный район\n",
       "74       Даниловский район\n",
       "6        Хорошёвский район\n",
       "51     район Замоскворечье\n",
       "50         Таганский район\n",
       "55         Мещанский район\n",
       "52         район Хамовники\n",
       "110          район Раменки\n",
       "Name: District, dtype: object"
      ]
     },
     "execution_count": 352,
     "metadata": {},
     "output_type": "execute_result"
    }
   ],
   "source": [
    "df.sort_values('qualityLife', ascending=False).District.head(10)"
   ]
  },
  {
   "cell_type": "markdown",
   "metadata": {},
   "source": [
    "## Витрина данных для анализа по районам"
   ]
  },
  {
   "cell_type": "code",
   "execution_count": 356,
   "metadata": {},
   "outputs": [
    {
     "data": {
      "text/html": [
       "<div>\n",
       "<style scoped>\n",
       "    .dataframe tbody tr th:only-of-type {\n",
       "        vertical-align: middle;\n",
       "    }\n",
       "\n",
       "    .dataframe tbody tr th {\n",
       "        vertical-align: top;\n",
       "    }\n",
       "\n",
       "    .dataframe thead th {\n",
       "        text-align: right;\n",
       "    }\n",
       "</style>\n",
       "<table border=\"1\" class=\"dataframe\">\n",
       "  <thead>\n",
       "    <tr style=\"text-align: right;\">\n",
       "      <th></th>\n",
       "      <th>District</th>\n",
       "      <th>ChildClinicCount</th>\n",
       "      <th>educCount</th>\n",
       "      <th>FoodCount</th>\n",
       "      <th>CallsDistrict</th>\n",
       "      <th>AdmArea</th>\n",
       "      <th>AdmAreaCalls</th>\n",
       "      <th>qualityLife</th>\n",
       "    </tr>\n",
       "  </thead>\n",
       "  <tbody>\n",
       "    <tr>\n",
       "      <th>0</th>\n",
       "      <td>район Матушкино</td>\n",
       "      <td>1.0</td>\n",
       "      <td>4</td>\n",
       "      <td>57</td>\n",
       "      <td>2084.800000</td>\n",
       "      <td>Зеленоградский административный округ</td>\n",
       "      <td>10424.0</td>\n",
       "      <td>0.029739</td>\n",
       "    </tr>\n",
       "    <tr>\n",
       "      <th>1</th>\n",
       "      <td>район Крюково</td>\n",
       "      <td>1.0</td>\n",
       "      <td>6</td>\n",
       "      <td>79</td>\n",
       "      <td>2084.800000</td>\n",
       "      <td>Зеленоградский административный округ</td>\n",
       "      <td>10424.0</td>\n",
       "      <td>0.041251</td>\n",
       "    </tr>\n",
       "    <tr>\n",
       "      <th>2</th>\n",
       "      <td>район Савёлки</td>\n",
       "      <td>1.0</td>\n",
       "      <td>3</td>\n",
       "      <td>43</td>\n",
       "      <td>2084.800000</td>\n",
       "      <td>Зеленоградский административный округ</td>\n",
       "      <td>10424.0</td>\n",
       "      <td>0.022544</td>\n",
       "    </tr>\n",
       "    <tr>\n",
       "      <th>3</th>\n",
       "      <td>район Старое Крюково</td>\n",
       "      <td>1.0</td>\n",
       "      <td>5</td>\n",
       "      <td>23</td>\n",
       "      <td>2084.800000</td>\n",
       "      <td>Зеленоградский административный округ</td>\n",
       "      <td>10424.0</td>\n",
       "      <td>0.013910</td>\n",
       "    </tr>\n",
       "    <tr>\n",
       "      <th>4</th>\n",
       "      <td>Ломоносовский район</td>\n",
       "      <td>2.0</td>\n",
       "      <td>10</td>\n",
       "      <td>65</td>\n",
       "      <td>2697.666667</td>\n",
       "      <td>Юго-Западный административный округ</td>\n",
       "      <td>32372.0</td>\n",
       "      <td>0.028543</td>\n",
       "    </tr>\n",
       "  </tbody>\n",
       "</table>\n",
       "</div>"
      ],
      "text/plain": [
       "               District  ChildClinicCount  educCount  FoodCount  \\\n",
       "0       район Матушкино               1.0          4         57   \n",
       "1         район Крюково               1.0          6         79   \n",
       "2         район Савёлки               1.0          3         43   \n",
       "3  район Старое Крюково               1.0          5         23   \n",
       "4   Ломоносовский район               2.0         10         65   \n",
       "\n",
       "   CallsDistrict                                AdmArea  AdmAreaCalls  \\\n",
       "0    2084.800000  Зеленоградский административный округ       10424.0   \n",
       "1    2084.800000  Зеленоградский административный округ       10424.0   \n",
       "2    2084.800000  Зеленоградский административный округ       10424.0   \n",
       "3    2084.800000  Зеленоградский административный округ       10424.0   \n",
       "4    2697.666667    Юго-Западный административный округ       32372.0   \n",
       "\n",
       "   qualityLife  \n",
       "0     0.029739  \n",
       "1     0.041251  \n",
       "2     0.022544  \n",
       "3     0.013910  \n",
       "4     0.028543  "
      ]
     },
     "execution_count": 356,
     "metadata": {},
     "output_type": "execute_result"
    }
   ],
   "source": [
    "df.head()"
   ]
  },
  {
   "cell_type": "markdown",
   "metadata": {},
   "source": [
    "## Придумать и рассчитать метрику “качества жизни” по id адреса\n",
    "\n",
    "Мне кажется важным фактором в качестве жизни являются не только такие вещи, как образование и поликлиники, а так же места для активного образа жизни, поэтому формулу выше я добавлю еще бассейнов в районах"
   ]
  },
  {
   "cell_type": "markdown",
   "metadata": {},
   "source": [
    "### Бассейны"
   ]
  },
  {
   "cell_type": "code",
   "execution_count": 358,
   "metadata": {},
   "outputs": [
    {
     "data": {
      "text/plain": [
       "{'url': 'https://op.mos.ru/EHDWSREST/catalog/export/get?id=894596',\n",
       " 'format': 'json',\n",
       " 'description': 'Данные о бассейнах (крытых)'}"
      ]
     },
     "execution_count": 358,
     "metadata": {},
     "output_type": "execute_result"
    }
   ],
   "source": [
    "urls['swimming_pool']"
   ]
  },
  {
   "cell_type": "code",
   "execution_count": 359,
   "metadata": {},
   "outputs": [
    {
     "data": {
      "text/plain": [
       "(449, 32)"
      ]
     },
     "execution_count": 359,
     "metadata": {},
     "output_type": "execute_result"
    }
   ],
   "source": [
    "swim_p = get_data(\n",
    "    urls['swimming_pool']['url'],\n",
    "    to_json=True,\n",
    "    decode=True\n",
    ")\n",
    "df_swim_p = pd.DataFrame(swim_p)\n",
    "df_swim_p.shape"
   ]
  },
  {
   "cell_type": "code",
   "execution_count": 372,
   "metadata": {},
   "outputs": [],
   "source": [
    "df = df.set_index('District').join(\n",
    "    df_swim_p.District.value_counts().to_frame().rename({'District': 'SwimCount'}, axis=1),\n",
    "    how='left'\n",
    ").reset_index()"
   ]
  },
  {
   "cell_type": "code",
   "execution_count": 374,
   "metadata": {},
   "outputs": [],
   "source": [
    "df['qualityLifeActivity'] = (df['SwimCount'].values + df['ChildClinicCount'].values + df['educCount'].values + df['FoodCount'].values) / df['CallsDistrict'].values"
   ]
  },
  {
   "cell_type": "code",
   "execution_count": 378,
   "metadata": {},
   "outputs": [
    {
     "data": {
      "text/plain": [
       "54       Пресненский район\n",
       "58          Тверской район\n",
       "53         Басманный район\n",
       "74       Даниловский район\n",
       "6        Хорошёвский район\n",
       "51     район Замоскворечье\n",
       "50         Таганский район\n",
       "52         район Хамовники\n",
       "55         Мещанский район\n",
       "110          район Раменки\n",
       "Name: District, dtype: object"
      ]
     },
     "execution_count": 378,
     "metadata": {},
     "output_type": "execute_result"
    }
   ],
   "source": [
    "df.sort_values('qualityLifeActivity', ascending=False).District.head(10)"
   ]
  },
  {
   "cell_type": "markdown",
   "metadata": {},
   "source": [
    "В качестве показателя жизни я вижу еще важным досуг, на `data.mos.ru/opendata` есть еще данные о кинотеатрах, но к сожалению там нету данных об адресе/районе, где находится кинотеатр."
   ]
  },
  {
   "cell_type": "code",
   "execution_count": 384,
   "metadata": {},
   "outputs": [
    {
     "data": {
      "text/plain": [
       "58         Тверской район\n",
       "54      Пресненский район\n",
       "53        Басманный район\n",
       "74      Даниловский район\n",
       "51    район Замоскворечье\n",
       "55        Мещанский район\n",
       "52        район Хамовники\n",
       "50        Таганский район\n",
       "6       Хорошёвский район\n",
       "59            район Арбат\n",
       "Name: District, dtype: object"
      ]
     },
     "execution_count": 384,
     "metadata": {},
     "output_type": "execute_result"
    }
   ],
   "source": [
    "df.sort_values('FoodCount', ascending=False).head(10).District"
   ]
  },
  {
   "attachments": {
    "image.png": {
     "image/png": "[encoded data removed]"
    }
   },
   "cell_type": "markdown",
   "metadata": {},
   "source": [
    "Что пишут про качество жизни:\n",
    "\n",
    "```\n",
    "- достаточную продолжительность здоровой жизни, поддержанную хорошим медицинским обслуживанием и безопасностью (отсутствием значимых угроз жизни и здоровью);\n",
    "- приемлемый объём потребления товаров и услуг, гарантированный доступ к материальным благам;\n",
    "- удовлетворительные социальные отношения, отсутствие серьёзных общественных конфликтов и угроз достигнутому уровню благополучия;\n",
    "благополучие семьи;\n",
    "- познание мира и развитие — доступ к знаниям, образованию и культурным ценностям, формирующим личность и представления об окружающем мире;\n",
    "- учёт мнения индивида при решении общественных проблем, участие в создании общепринятой картины мира и правил поведения человека;\n",
    "социальную принадлежность, полноправное участие в общественной и культурной жизни во всех их формах;\n",
    "доступ к разнообразной информации, включая сведения о положении дел в обществе;\n",
    "- комфортные условия труда, дающего простор для творчества и самореализации, относительно короткий рабочий день, оставляющий человеку достаточно свободного времени для различных занятий.\n",
    "```\n",
    "[Источник](https://ru.wikipedia.org/wiki/%D0%9A%D0%B0%D1%87%D0%B5%D1%81%D1%82%D0%B2%D0%BE_%D0%B6%D0%B8%D0%B7%D0%BD%D0%B8)\n",
    "\n",
    "\n",
    "#### В целом этот анализ покрывает следующие пункты:\n",
    "- достаточную продолжительность здоровой жизни:\n",
    " - Это происходит за счет учета поликлиники в районах\n",
    "- приемлемый объём потребления товаров и услуг:\n",
    " - Этот пункт покрывается за счет общественного питания, потому что где люди не могут позволить себе питаться в кафе, значит что там не будут строиться всякие кафе. Конечно, может быть так что люди приезжают на работу/отдых в определенное место и там питаются. Так же есть похожая вещь в `Яндекс.Еда`, где так или иначе показывают сколько в каком районе заказывают еду на дом, [тык](https://eda.yandex/promo/eatlocal). В целом то что я рассчитал (ячейкой выше показал отсортированное кол-во питания по районам) очень похоже на картину, которая показывается по ссылке (скриншот ниже)![image.png](attachment:image.png)\n",
    "- удовлетворительные социальные отношения:\n",
    " - За это отвечает кол-во звонков по району (хотя оно рассчитано не очень точно, потому что данные есть только об административных округах)\n",
    "- познание мира и развитие — доступ к знаниям\n",
    " - Этот пункт покрывается за счет данных об образовательных учреждениях\n",
    " \n",
    "#### Этот анализ не покрывает следующие пункты:\n",
    "- учёт мнения индивида при решении общественных проблем\n",
    " - На сегодняшний день все голосование так или иначе не требуют присутствия людей, например есть активный гражданин, это сервис который за счет голосования получает мнение горожан по актуальным вопросам. Государство всячески пытается мотивировать людей голосовать там, это происходит в онлайне, поэтому этот пункт можно не привязывать к определенному району\n",
    "- комфортные условия труда\n",
    " - В целом на том же хранилище данных есть [информация](https://data.mos.ru/opendata/7704253064-otdely-trudoustroystva) об отделах трудоустройства, но она никак не привязана к районам. И на самом деле я не уверен что этим, действительно, кто-то пользуется, но это только исходя из моего личного опыта.\n",
    "\n",
    "Так же еще есть один очень интересный датасет под назаванием \"Аварийные службы по ремонту водопровода, канализации, освещения и отопления в многоквартирных домах\". Это так же очень важно, поэтому я добавлю его в конечную формулу по рассчету качества жизни"
   ]
  },
  {
   "cell_type": "code",
   "execution_count": 386,
   "metadata": {},
   "outputs": [
    {
     "data": {
      "text/plain": [
       "{'url': 'https://op.mos.ru/EHDWSREST/catalog/export/get?id=402655',\n",
       " 'format': 'xlsx',\n",
       " 'description': 'Аварийные службы по ремонту водопровода, канализации, освещения и отопления в многоквартирных домах'}"
      ]
     },
     "execution_count": 386,
     "metadata": {},
     "output_type": "execute_result"
    }
   ],
   "source": [
    "urls['emergency_services']"
   ]
  },
  {
   "cell_type": "code",
   "execution_count": 387,
   "metadata": {},
   "outputs": [
    {
     "data": {
      "text/plain": [
       "(1048, 13)"
      ]
     },
     "execution_count": 387,
     "metadata": {},
     "output_type": "execute_result"
    }
   ],
   "source": [
    "emergency = get_data(\n",
    "    urls['emergency_services']['url'],\n",
    "    to_json=False,\n",
    "    decode=False\n",
    ")\n",
    "df_emergency = pd.read_excel(BytesIO(emergency))\n",
    "df_emergency.shape"
   ]
  },
  {
   "cell_type": "code",
   "execution_count": 397,
   "metadata": {},
   "outputs": [],
   "source": [
    "df = df.set_index('District').join(\n",
    "    df_emergency[['District', 'Name']].groupby('District').count().rename({'Name': 'emergencyCount'}, axis=1),\n",
    "    how='left'\n",
    ").reset_index()"
   ]
  },
  {
   "cell_type": "code",
   "execution_count": 398,
   "metadata": {},
   "outputs": [],
   "source": [
    "df['qualityLifeA_Emergency'] = (df['emergencyCount'].values + df['SwimCount'].values + df['ChildClinicCount'].values + df['educCount'].values + df['FoodCount'].values) / df['CallsDistrict'].values"
   ]
  },
  {
   "cell_type": "code",
   "execution_count": 405,
   "metadata": {},
   "outputs": [
    {
     "data": {
      "text/plain": [
       "54       Пресненский район\n",
       "58          Тверской район\n",
       "53         Басманный район\n",
       "74       Даниловский район\n",
       "6        Хорошёвский район\n",
       "51     район Замоскворечье\n",
       "50         Таганский район\n",
       "52         район Хамовники\n",
       "55         Мещанский район\n",
       "110          район Раменки\n",
       "Name: District, dtype: object"
      ]
     },
     "execution_count": 405,
     "metadata": {},
     "output_type": "execute_result"
    }
   ],
   "source": [
    "df.sort_values('qualityLifeA_Emergency', ascending=False).District.head(10)"
   ]
  },
  {
   "cell_type": "markdown",
   "metadata": {},
   "source": [
    "## Простроить интегральный показатель качества жизни, который бы позволил нивелировать колебания данных внутри года\n",
    "Этот пункт относится только к временным данным, а у нас это только данные \"Данные о вызовах пожарно-спасательного гарнизона\". Я уже применил метод по сумме показателей, когда рассчитывал данные для этого датасета"
   ]
  },
  {
   "cell_type": "code",
   "execution_count": 452,
   "metadata": {},
   "outputs": [],
   "source": [
    "def calc_quality_life(address: str):\n",
    "    district = detect_district(address, regions)\n",
    "    if len(district) == 0:\n",
    "        return 'Cant find this address'\n",
    "    elif len(district) > 1:\n",
    "        print(district, '\\n Please choose ur district (type index from 0)')\n",
    "        index = input()\n",
    "        district = district[int(index)]\n",
    "    else:\n",
    "        district = district[0]\n",
    "    data = df[df.District == district].to_dict(orient='records')[-1]\n",
    "    for i in ['qualityLife', 'qualityLifeActivity', 'qualityLifeA_Emergency']:\n",
    "        print('{0!s} - {1!s}'.format(i, data[i]))\n",
    "        \n",
    "    place_top = df.sort_values('qualityLifeA_Emergency', ascending=False).District.tolist().index(district) + 1\n",
    "    \n",
    "    print('Ranking by quality with activity and emergency {0!s} out of {1!s}'.format(place_top, df.shape[0]))"
   ]
  },
  {
   "cell_type": "code",
   "execution_count": 453,
   "metadata": {},
   "outputs": [
    {
     "name": "stdout",
     "output_type": "stream",
     "text": [
      "qualityLife - 0.030328331264808755\n",
      "qualityLifeActivity - 0.031050434390161346\n",
      "qualityLifeA_Emergency - 0.03502200157960059\n",
      "Ranking by quality with activity and emergency 74 out of 128\n"
     ]
    }
   ],
   "source": [
    "calc_quality_life('Домодедовская, 44')"
   ]
  },
  {
   "cell_type": "code",
   "execution_count": 454,
   "metadata": {},
   "outputs": [
    {
     "name": "stdout",
     "output_type": "stream",
     "text": [
      "['район Якиманка', 'Даниловский район'] \n",
      " Please choose ur district (type index from 0)\n",
      "1\n",
      "qualityLife - 0.17619316258603182\n",
      "qualityLifeActivity - 0.17980367821279478\n",
      "qualityLifeA_Emergency - 0.1834141938395577\n",
      "Ranking by quality with activity and emergency 4 out of 128\n"
     ]
    }
   ],
   "source": [
    "calc_quality_life('Мытная, 66')"
   ]
  },
  {
   "cell_type": "markdown",
   "metadata": {},
   "source": [
    "## Итог\n"
   ]
  },
  {
   "cell_type": "markdown",
   "metadata": {},
   "source": [
    "В итоге получилась некая формула:\n",
    "\n",
    "`Качество жизни района = (кол-во бассейнов + кол-во аварийных служб + кол-во детских поликлиник + точек общественного питания) / Относительная опасность района)`\n",
    "\n",
    "Где данные относительной опасности района берутся из вызовов пожарно-спасательного гарнизона и нивелируются внутри года засчет интегрального показателя, так же усредняются к районом от административных округов, путем усреднения на каждый район (что не очень точно). Все остальные метрики привязаны к районам.\n",
    "\n",
    "В итоге выше можно видеть функцию, в которую нужно ввести адрес, если у нее не получается определить точный район, то она спросит пользователя, после чего выдаст ему 3 метрики качества жизни.\n",
    " - qualityLife - это изначальная метрика, формула которой была указана в тестовом\n",
    " - qualityLifeActivity - это метрика, которая так же учитывает крытые бассейны в районах\n",
    " - qualityLifeA_Emergency - это метрика, которая помимо крытых бассейнов учитывает аварийные службы в районе\n",
    "\n",
    "Так же функция покажет на каком месте в топе находится его район, чтобы было понятно что вообще значат эти цифры.\n",
    "Конечная витрина данных представлена ниже, там уже рассчитаны все метрики по районам и данные, на основе которых эти метрики рассчитывались.\n",
    "Все данные подтягиваются в реальном времени из онлайна и не сохраняются на жесткий диск.\n",
    "\n",
    "Эту метрику можно \"кастомизировать\", расставить веса каждому фактому, например пользователю будет очень важно, чтобы в районе были места для активного образа жизни (у меня это представлено только в качестве крытых бассейнов), так вот можно поставить вес этому фактору и конечный рейтинг районов изменится. (сейчас все факторы стоят с весом 1)\n",
    "\n",
    "Так же для рассчета качества жизни еще необходимы данные по трудовой занятости, мне кажется это можно отследить черещ поездки, например то что человек в определенные часы куда-то едет (к сожалению в открытых данных я такого не нашел, да и вряд ли будут открывать данные по загруженности станции/автобусных остановках)"
   ]
  },
  {
   "cell_type": "code",
   "execution_count": 456,
   "metadata": {},
   "outputs": [
    {
     "data": {
      "text/html": [
       "<div>\n",
       "<style scoped>\n",
       "    .dataframe tbody tr th:only-of-type {\n",
       "        vertical-align: middle;\n",
       "    }\n",
       "\n",
       "    .dataframe tbody tr th {\n",
       "        vertical-align: top;\n",
       "    }\n",
       "\n",
       "    .dataframe thead th {\n",
       "        text-align: right;\n",
       "    }\n",
       "</style>\n",
       "<table border=\"1\" class=\"dataframe\">\n",
       "  <thead>\n",
       "    <tr style=\"text-align: right;\">\n",
       "      <th></th>\n",
       "      <th>District</th>\n",
       "      <th>ChildClinicCount</th>\n",
       "      <th>educCount</th>\n",
       "      <th>FoodCount</th>\n",
       "      <th>CallsDistrict</th>\n",
       "      <th>AdmArea</th>\n",
       "      <th>AdmAreaCalls</th>\n",
       "      <th>qualityLife</th>\n",
       "      <th>SwimCount</th>\n",
       "      <th>qualityLifeActivity</th>\n",
       "      <th>emergencyCount</th>\n",
       "      <th>qualityLifeA_Emergency</th>\n",
       "    </tr>\n",
       "  </thead>\n",
       "  <tbody>\n",
       "    <tr>\n",
       "      <th>0</th>\n",
       "      <td>район Матушкино</td>\n",
       "      <td>1.0</td>\n",
       "      <td>4</td>\n",
       "      <td>57</td>\n",
       "      <td>2084.800000</td>\n",
       "      <td>Зеленоградский административный округ</td>\n",
       "      <td>10424.0</td>\n",
       "      <td>0.029739</td>\n",
       "      <td>1.0</td>\n",
       "      <td>0.030219</td>\n",
       "      <td>3.0</td>\n",
       "      <td>0.031658</td>\n",
       "    </tr>\n",
       "    <tr>\n",
       "      <th>1</th>\n",
       "      <td>район Крюково</td>\n",
       "      <td>1.0</td>\n",
       "      <td>6</td>\n",
       "      <td>79</td>\n",
       "      <td>2084.800000</td>\n",
       "      <td>Зеленоградский административный округ</td>\n",
       "      <td>10424.0</td>\n",
       "      <td>0.041251</td>\n",
       "      <td>1.0</td>\n",
       "      <td>0.041731</td>\n",
       "      <td>9.0</td>\n",
       "      <td>0.046048</td>\n",
       "    </tr>\n",
       "    <tr>\n",
       "      <th>2</th>\n",
       "      <td>район Савёлки</td>\n",
       "      <td>1.0</td>\n",
       "      <td>3</td>\n",
       "      <td>43</td>\n",
       "      <td>2084.800000</td>\n",
       "      <td>Зеленоградский административный округ</td>\n",
       "      <td>10424.0</td>\n",
       "      <td>0.022544</td>\n",
       "      <td>2.0</td>\n",
       "      <td>0.023503</td>\n",
       "      <td>3.0</td>\n",
       "      <td>0.024942</td>\n",
       "    </tr>\n",
       "    <tr>\n",
       "      <th>3</th>\n",
       "      <td>район Старое Крюково</td>\n",
       "      <td>1.0</td>\n",
       "      <td>5</td>\n",
       "      <td>23</td>\n",
       "      <td>2084.800000</td>\n",
       "      <td>Зеленоградский административный округ</td>\n",
       "      <td>10424.0</td>\n",
       "      <td>0.013910</td>\n",
       "      <td>2.0</td>\n",
       "      <td>0.014870</td>\n",
       "      <td>3.0</td>\n",
       "      <td>0.016309</td>\n",
       "    </tr>\n",
       "    <tr>\n",
       "      <th>4</th>\n",
       "      <td>Ломоносовский район</td>\n",
       "      <td>2.0</td>\n",
       "      <td>10</td>\n",
       "      <td>65</td>\n",
       "      <td>2697.666667</td>\n",
       "      <td>Юго-Западный административный округ</td>\n",
       "      <td>32372.0</td>\n",
       "      <td>0.028543</td>\n",
       "      <td>3.0</td>\n",
       "      <td>0.029655</td>\n",
       "      <td>9.0</td>\n",
       "      <td>0.032991</td>\n",
       "    </tr>\n",
       "  </tbody>\n",
       "</table>\n",
       "</div>"
      ],
      "text/plain": [
       "               District  ChildClinicCount  educCount  FoodCount  \\\n",
       "0       район Матушкино               1.0          4         57   \n",
       "1         район Крюково               1.0          6         79   \n",
       "2         район Савёлки               1.0          3         43   \n",
       "3  район Старое Крюково               1.0          5         23   \n",
       "4   Ломоносовский район               2.0         10         65   \n",
       "\n",
       "   CallsDistrict                                AdmArea  AdmAreaCalls  \\\n",
       "0    2084.800000  Зеленоградский административный округ       10424.0   \n",
       "1    2084.800000  Зеленоградский административный округ       10424.0   \n",
       "2    2084.800000  Зеленоградский административный округ       10424.0   \n",
       "3    2084.800000  Зеленоградский административный округ       10424.0   \n",
       "4    2697.666667    Юго-Западный административный округ       32372.0   \n",
       "\n",
       "   qualityLife  SwimCount  qualityLifeActivity  emergencyCount  \\\n",
       "0     0.029739        1.0             0.030219             3.0   \n",
       "1     0.041251        1.0             0.041731             9.0   \n",
       "2     0.022544        2.0             0.023503             3.0   \n",
       "3     0.013910        2.0             0.014870             3.0   \n",
       "4     0.028543        3.0             0.029655             9.0   \n",
       "\n",
       "   qualityLifeA_Emergency  \n",
       "0                0.031658  \n",
       "1                0.046048  \n",
       "2                0.024942  \n",
       "3                0.016309  \n",
       "4                0.032991  "
      ]
     },
     "execution_count": 456,
     "metadata": {},
     "output_type": "execute_result"
    }
   ],
   "source": [
    "df.head()"
   ]
  },
  {
   "cell_type": "code",
   "execution_count": null,
   "metadata": {},
   "outputs": [],
   "source": []
  },
  {
   "cell_type": "code",
   "execution_count": null,
   "metadata": {},
   "outputs": [],
   "source": []
  },
  {
   "cell_type": "code",
   "execution_count": null,
   "metadata": {},
   "outputs": [],
   "source": []
  }
 ],
 "metadata": {
  "kernelspec": {
   "display_name": "Python 3",
   "language": "python",
   "name": "python3"
  },
  "language_info": {
   "codemirror_mode": {
    "name": "ipython",
    "version": 3
   },
   "file_extension": ".py",
   "mimetype": "text/x-python",
   "name": "python",
   "nbconvert_exporter": "python",
   "pygments_lexer": "ipython3",
   "version": "3.7.5"
  }
 },
 "nbformat": 4,
 "nbformat_minor": 4
}
